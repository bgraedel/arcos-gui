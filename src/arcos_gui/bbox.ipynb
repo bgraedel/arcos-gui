{
 "cells": [
  {
   "cell_type": "code",
   "execution_count": 31,
   "metadata": {},
   "outputs": [],
   "source": [
    "import numpy as np\n",
    "import pandas as pd\n",
    "from typing import Union"
   ]
  },
  {
   "cell_type": "code",
   "execution_count": 32,
   "metadata": {},
   "outputs": [],
   "source": [
    "def calc_bbox(array: np.ndarray):\n",
    "    t = array[0,0]\n",
    "    pos_array = array[:,1:]\n",
    "    # 3d case\n",
    "    if pos_array.shape[1] == 3:\n",
    "        \n",
    "        miny, minx, minz = np.min(pos_array, axis = 0)\n",
    "        maxy, maxx, maxz = np.max(pos_array, axis = 0)\n",
    "        return np.array([[t, miny, minx, minz], \n",
    "                        [t, miny, minx, maxz],\n",
    "                        [t, miny, maxx, maxz],\n",
    "                        [t, miny, maxx, minz],\n",
    "                        [t, maxy, maxx, minz],\n",
    "                        [t, maxy, minx, minz],\n",
    "                        [t, maxy, minx, maxz],\n",
    "                        [t, maxy, maxx, maxz],\n",
    "                        ])\n",
    "    # 2d case\n",
    "    miny, minx = np.min(pos_array, axis = 0)\n",
    "    maxy, maxx = np.max(pos_array, axis = 0)\n",
    "    return np.array([[t ,miny, minx],\n",
    "                    [t, miny, maxx],\n",
    "                    [t, maxy, maxx], \n",
    "                    [t, maxy, minx]])\n",
    "\n",
    "def get_bbox_2d(df: pd.DataFrame, frame: str, xcol: str, ycol: str, zcol: Union[str, None]):\n",
    "    df = df.sort_values([frame])\n",
    "    if zcol == 'None':\n",
    "        array_tpos = df[[frame, ycol, xcol]].to_numpy()\n",
    "    else: \n",
    "        array_tpos = df[[frame, ycol, xcol, zcol]].to_numpy()\n",
    "    array_tpos = array_tpos[~np.isnan(array_tpos).any(axis=1)]\n",
    "    # split array into list of arrays, one for each collid/timepoint combination\n",
    "    grouped_array = np.split(\n",
    "        array_tpos, np.unique(array_tpos[:, 0], axis=0, return_index=True)[1][1:]\n",
    "    )\n",
    "    # calc bbox for every array in the list\n",
    "    bbox = [calc_bbox(i) for i in grouped_array]\n",
    "    text_size = 10\n",
    "    bbox_size = 5\n",
    "    text_parameters = {\n",
    "        'text': 'collid: {label}',\n",
    "        'size': text_size,\n",
    "        'color': 'white',\n",
    "        'anchor': 'upper_left',\n",
    "        'translation': [-3, 0]\n",
    "    }\n",
    "    bbox_layer = {}\n",
    "    bbox_layer['properties'] = {}\n",
    "    bbox_layer['properties']['label'] = colid\n",
    "    bbox_layer['text'] = text_parameters\n",
    "    bbox_layer['face_color'] = 'transparent'\n",
    "    bbox_layer['edge_color'] = 'red'\n",
    "    bbox_layer['edge_width'] = bbox_size\n",
    "    bbox_layer['name'] = 'event_boundingbox'\n",
    "    bbox_layer['shape_type'] = 'polygon'\n",
    "    return bbox, bbox_layer\n",
    "\n",
    "def get_bbox_3d(df: pd.DataFrame, frame: str, xcol: str, ycol: str, zcol: Union[str, None]):\n",
    "    df = df.sort_values([frame])\n",
    "    array_tpos = df[[frame, ycol, xcol, zcol]].to_numpy()\n",
    "    array_tpos = array_tpos[~np.isnan(array_tpos).any(axis=1)]\n",
    "    # split array into list of arrays, one for each collid/timepoint combination\n",
    "    grouped_array = np.split(\n",
    "        array_tpos, np.unique(array_tpos[:, 0], axis=0, return_index=True)[1][1:]\n",
    "    )\n",
    "    # calc bbox for every array in the list\n",
    "    bbox = [calc_bbox(i) for i in grouped_array]\n",
    "    dataFaces = []\n",
    "    vertices_count = 0\n",
    "    data_colors = []\n",
    "    face = np.array([[3, 5, 4],\n",
    "       [3, 5, 0],\n",
    "       [3, 1, 2],\n",
    "       [3, 1, 0],\n",
    "       [7, 3, 2],\n",
    "       [7, 3, 4],\n",
    "       [6, 1, 0],\n",
    "       [6, 5, 0],\n",
    "       [6, 1, 2],\n",
    "       [6, 7, 2],\n",
    "       [6, 5, 4],\n",
    "       [6, 7, 4]])\n",
    "    for i, value in enumerate(bbox):\n",
    "            dataFaces.append(np.add(face, vertices_count))\n",
    "            vertices_count += len(bbox[i])\n",
    "    out_faces = np.concatenate(dataFaces)\n",
    "    # color_array = np.array(data_colors)\n",
    "    bbox = np.concatenate(bbox)\n",
    "    data_colors = np.array([1 for i in range(bbox.shape[0])])\n",
    "    return (bbox, out_faces, data_colors)\n"
   ]
  },
  {
   "cell_type": "code",
   "execution_count": 38,
   "metadata": {},
   "outputs": [],
   "source": [
    "df = pd.read_csv('C:/Users/benig/Desktop/arcos_data_3d.csv')\n",
    "df_filtered = df[df['collid'] == 4]"
   ]
  },
  {
   "cell_type": "code",
   "execution_count": 49,
   "metadata": {},
   "outputs": [],
   "source": [
    "bbox = get_bbox_3d(df_filtered, 'time', 'posx', 'posy', 'posz')"
   ]
  },
  {
   "cell_type": "code",
   "execution_count": 40,
   "metadata": {},
   "outputs": [
    {
     "name": "stderr",
     "output_type": "stream",
     "text": [
      "C:\\Users\\benig\\miniconda3\\envs\\arcos\\lib\\site-packages\\napari\\plugins\\_plugin_manager.py:533: UserWarning: Plugin 'napari-features' has already registered a function widget 'features' which has now been overwritten\n",
      "  warn(message=warn_message)\n"
     ]
    }
   ],
   "source": [
    "import napari\n",
    "viewer = napari.Viewer()"
   ]
  },
  {
   "cell_type": "code",
   "execution_count": 36,
   "metadata": {},
   "outputs": [],
   "source": [
    "# if 'event_boundingbox' in viewer.layers:\n",
    "#     viewer.layers.remove('event_boundingbox')\n",
    "# viewer.add_shapes(bbox[0], hull.simplices)"
   ]
  },
  {
   "cell_type": "code",
   "execution_count": 53,
   "metadata": {},
   "outputs": [
    {
     "name": "stdout",
     "output_type": "stream",
     "text": [
      "[[ 3  5  4]\n",
      " [ 3  5  0]\n",
      " [ 3  1  2]\n",
      " [ 3  1  0]\n",
      " [ 7  3  2]\n",
      " [ 7  3  4]\n",
      " [ 6  1  0]\n",
      " [ 6  5  0]\n",
      " [ 6  1  2]\n",
      " [ 6  7  2]\n",
      " [ 6  5  4]\n",
      " [ 6  7  4]\n",
      " [11 13 12]\n",
      " [11 13  8]\n",
      " [11  9 10]\n",
      " [11  9  8]\n",
      " [15 11 10]\n",
      " [15 11 12]\n",
      " [14  9  8]\n",
      " [14 13  8]\n",
      " [14  9 10]\n",
      " [14 15 10]\n",
      " [14 13 12]\n",
      " [14 15 12]\n",
      " [19 21 20]\n",
      " [19 21 16]\n",
      " [19 17 18]\n",
      " [19 17 16]\n",
      " [23 19 18]\n",
      " [23 19 20]\n",
      " [22 17 16]\n",
      " [22 21 16]\n",
      " [22 17 18]\n",
      " [22 23 18]\n",
      " [22 21 20]\n",
      " [22 23 20]\n",
      " [27 29 28]\n",
      " [27 29 24]\n",
      " [27 25 26]\n",
      " [27 25 24]\n",
      " [31 27 26]\n",
      " [31 27 28]\n",
      " [30 25 24]\n",
      " [30 29 24]\n",
      " [30 25 26]\n",
      " [30 31 26]\n",
      " [30 29 28]\n",
      " [30 31 28]\n",
      " [35 37 36]\n",
      " [35 37 32]\n",
      " [35 33 34]\n",
      " [35 33 32]\n",
      " [39 35 34]\n",
      " [39 35 36]\n",
      " [38 33 32]\n",
      " [38 37 32]\n",
      " [38 33 34]\n",
      " [38 39 34]\n",
      " [38 37 36]\n",
      " [38 39 36]\n",
      " [43 45 44]\n",
      " [43 45 40]\n",
      " [43 41 42]\n",
      " [43 41 40]\n",
      " [47 43 42]\n",
      " [47 43 44]\n",
      " [46 41 40]\n",
      " [46 45 40]\n",
      " [46 41 42]\n",
      " [46 47 42]\n",
      " [46 45 44]\n",
      " [46 47 44]\n",
      " [51 53 52]\n",
      " [51 53 48]\n",
      " [51 49 50]\n",
      " [51 49 48]\n",
      " [55 51 50]\n",
      " [55 51 52]\n",
      " [54 49 48]\n",
      " [54 53 48]\n",
      " [54 49 50]\n",
      " [54 55 50]\n",
      " [54 53 52]\n",
      " [54 55 52]\n",
      " [59 61 60]\n",
      " [59 61 56]\n",
      " [59 57 58]\n",
      " [59 57 56]\n",
      " [63 59 58]\n",
      " [63 59 60]\n",
      " [62 57 56]\n",
      " [62 61 56]\n",
      " [62 57 58]\n",
      " [62 63 58]\n",
      " [62 61 60]\n",
      " [62 63 60]\n",
      " [67 69 68]\n",
      " [67 69 64]\n",
      " [67 65 66]\n",
      " [67 65 64]\n",
      " [71 67 66]\n",
      " [71 67 68]\n",
      " [70 65 64]\n",
      " [70 69 64]\n",
      " [70 65 66]\n",
      " [70 71 66]\n",
      " [70 69 68]\n",
      " [70 71 68]\n",
      " [75 77 76]\n",
      " [75 77 72]\n",
      " [75 73 74]\n",
      " [75 73 72]\n",
      " [79 75 74]\n",
      " [79 75 76]\n",
      " [78 73 72]\n",
      " [78 77 72]\n",
      " [78 73 74]\n",
      " [78 79 74]\n",
      " [78 77 76]\n",
      " [78 79 76]]\n"
     ]
    }
   ],
   "source": [
    "print(bbox[1])"
   ]
  },
  {
   "cell_type": "code",
   "execution_count": 37,
   "metadata": {},
   "outputs": [
    {
     "data": {
      "text/plain": [
       "<Surface layer 'bbox' at 0x25daa488910>"
      ]
     },
     "execution_count": 37,
     "metadata": {},
     "output_type": "execute_result"
    }
   ],
   "source": [
    "if 'event_boundingbox' in viewer.layers:\n",
    "    viewer.layers.remove('event_boundingbox')\n",
    "viewer.add_surface(bbox, colormap='red')"
   ]
  },
  {
   "cell_type": "code",
   "execution_count": 20,
   "metadata": {},
   "outputs": [
    {
     "data": {
      "text/plain": [
       "array([[3, 5, 4],\n",
       "       [3, 5, 0],\n",
       "       [3, 1, 2],\n",
       "       [3, 1, 0],\n",
       "       [7, 3, 2],\n",
       "       [7, 3, 4],\n",
       "       [6, 1, 0],\n",
       "       [6, 5, 0],\n",
       "       [6, 1, 2],\n",
       "       [6, 7, 2],\n",
       "       [6, 5, 4],\n",
       "       [6, 7, 4]], dtype=int32)"
      ]
     },
     "execution_count": 20,
     "metadata": {},
     "output_type": "execute_result"
    }
   ],
   "source": [
    "hull.simplices"
   ]
  },
  {
   "cell_type": "code",
   "execution_count": null,
   "metadata": {},
   "outputs": [],
   "source": []
  }
 ],
 "metadata": {
  "interpreter": {
   "hash": "27c1e4368a1f6fab2bf7442d9001d017b3eeb32fa54c0be0a88082946e5ff4f6"
  },
  "kernelspec": {
   "display_name": "Python 3.10.4 ('arcos')",
   "language": "python",
   "name": "python3"
  },
  "language_info": {
   "codemirror_mode": {
    "name": "ipython",
    "version": 3
   },
   "file_extension": ".py",
   "mimetype": "text/x-python",
   "name": "python",
   "nbconvert_exporter": "python",
   "pygments_lexer": "ipython3",
   "version": "3.10.4"
  },
  "orig_nbformat": 4
 },
 "nbformat": 4,
 "nbformat_minor": 2
}
