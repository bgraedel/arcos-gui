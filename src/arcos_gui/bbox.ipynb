{
 "cells": [
  {
   "cell_type": "code",
   "execution_count": null,
   "metadata": {},
   "outputs": [],
   "source": [
    "import numpy as np\n",
    "import pandas as pd\n",
    "import matplotlib.pyplot as plt\n",
    "from timeit import timeit"
   ]
  },
  {
   "cell_type": "code",
   "execution_count": null,
   "metadata": {},
   "outputs": [],
   "source": [
    "setup = \"\"\"\n",
    "import pandas as pd\n",
    "import matplotlib.pyplot as plt\n",
    "import numpy as np\n",
    "df = pd.read_csv('C:/Users/benig/Desktop/arcos_data_3d.csv')\n",
    "df.dropna(inplace=True)\n",
    "\"\"\""
   ]
  },
  {
   "cell_type": "code",
   "execution_count": null,
   "metadata": {},
   "outputs": [],
   "source": [
    "def Normalize(data):\n",
    "    return (data - np.min(data))/(np.max(data)- np.min(data))"
   ]
  },
  {
   "cell_type": "code",
   "execution_count": null,
   "metadata": {},
   "outputs": [],
   "source": [
    "df_grp = df.groupby(['collid', 'trackID'])\n",
    "colors = plt.cm.viridis(np.linspace(0,1, 10))"
   ]
  },
  {
   "cell_type": "code",
   "execution_count": null,
   "metadata": {},
   "outputs": [],
   "source": [
    "mycode = \"\"\"\n",
    "df_grp = df.groupby(['collid'])\n",
    "df['groups'] = df_grp.ngroup()\n",
    "df_grp = df.groupby(['groups', 'trackID'])\n",
    "colors = plt.cm.jet(np.linspace(0,1, 2))\n",
    "projection = 'posx'\n",
    "for i, dat in df_grp:\n",
    "    plt.plot(dat['time'], dat[projection], c=colors[int(i[0])])\n",
    "plt.show()\n",
    "plt.close()\n",
    "\"\"\"\n",
    "\n",
    "timeit(stmt=mycode, setup=setup, number=10)"
   ]
  },
  {
   "cell_type": "code",
   "execution_count": null,
   "metadata": {},
   "outputs": [],
   "source": [
    "import numpy as np\n",
    "import matplotlib.pyplot as plt\n",
    "import pandas as pd"
   ]
  },
  {
   "cell_type": "code",
   "execution_count": null,
   "metadata": {},
   "outputs": [],
   "source": [
    "mycode = \"\"\"\n",
    "df.sort_values([\"collid\", 'trackID'], inplace=True)\n",
    "array = df[['collid', 'trackID', 'time', 'posx', 'posy', 'posz']].to_numpy()\n",
    "grouped_array = np.split(\n",
    "    array, np.unique(array[:, 0], axis=0, return_index=True)[1][1:]\n",
    ")\n",
    "seq_colids = np.concatenate([np.repeat(i, value.shape[0]) for i,value in enumerate(grouped_array)], axis=0)\n",
    "array_seq_colids = np.column_stack((array, seq_colids))\n",
    "grouped_array = np.split(\n",
    "    array_seq_colids, np.unique(array_seq_colids[:, :2], axis=0, return_index=True)[1][1:]\n",
    ")\n",
    "colors = plt.cm.viridis_r(np.linspace(0,1, np.unique(array_seq_colids[:,-1]).shape[0]))\n",
    "\n",
    "for dat in grouped_array:\n",
    "    plt.plot(dat[:,2], dat[:,5], c=colors[int(dat[0,-1])])\n",
    "\n",
    "plt.show()\n",
    "plt.close()\n",
    "\"\"\"\n",
    "\n",
    "timeit(stmt=mycode, setup=setup, number=10)"
   ]
  },
  {
   "cell_type": "code",
   "execution_count": null,
   "metadata": {},
   "outputs": [],
   "source": [
    "plt.cm.turbo"
   ]
  },
  {
   "cell_type": "code",
   "execution_count": null,
   "metadata": {},
   "outputs": [],
   "source": [
    "a = grouped_array_2.copy()\n",
    "for i, value in enumerate(grouped_array_2):\n",
    "    np.concatenate([a,np.repeat(i, value.size)])\n",
    "\n",
    "np."
   ]
  },
  {
   "cell_type": "code",
   "execution_count": null,
   "metadata": {},
   "outputs": [],
   "source": [
    "out.reshape(-1,1)"
   ]
  },
  {
   "cell_type": "code",
   "execution_count": 1,
   "metadata": {},
   "outputs": [
    {
     "name": "stderr",
     "output_type": "stream",
     "text": [
      "WARNING: DirectWrite: CreateFontFaceFromHDC() failed (Gibt einen Fehler in einer Eingabedatei an, zum Beispiel eine Schriftartdatei.) for QFontDef(Family=\"\", pointsize=12, pixelsize=16, styleHint=5, weight=50, stretch=100, hintingPreference=0) LOGFONT(\"MS Sans Serif\", lfWidth=0, lfHeight=-16) dpi=96\n"
     ]
    }
   ],
   "source": [
    "import napari\n",
    "from scipy import ndimage\n",
    "from skimage import io\n",
    "\n",
    "viewer = napari.Viewer()"
   ]
  },
  {
   "cell_type": "code",
   "execution_count": 2,
   "metadata": {},
   "outputs": [],
   "source": [
    "\n",
    "nuclei = io.imread(\"C:/Users/benig/Documents/python_dev/arcos-gui/arcos-gui/src/arcos_gui/nuc_transposed.tiff\")\n"
   ]
  },
  {
   "cell_type": "code",
   "execution_count": null,
   "metadata": {},
   "outputs": [],
   "source": [
    "erkktr = io.imread(\"C:/Users/benig/Desktop/C2-20191021_WT_control.tif\")"
   ]
  },
  {
   "cell_type": "code",
   "execution_count": null,
   "metadata": {},
   "outputs": [],
   "source": [
    "nuclei.shape"
   ]
  },
  {
   "cell_type": "code",
   "execution_count": null,
   "metadata": {},
   "outputs": [],
   "source": [
    "nuclei_zoomed = ndimage.zoom(nuclei, (1,0.6,0.37,0.37))"
   ]
  },
  {
   "cell_type": "code",
   "execution_count": null,
   "metadata": {},
   "outputs": [],
   "source": [
    "erktr_zoomed = ndimage.zoom(erkktr, (1,0.6,0.37,0.37)) "
   ]
  },
  {
   "cell_type": "code",
   "execution_count": 3,
   "metadata": {},
   "outputs": [
    {
     "data": {
      "text/plain": [
       "<Image layer 'nuclei' at 0x2539eed74c0>"
      ]
     },
     "execution_count": 3,
     "metadata": {},
     "output_type": "execute_result"
    },
    {
     "name": "stderr",
     "output_type": "stream",
     "text": [
      "WARNING: DirectWrite: CreateFontFaceFromHDC() failed (Gibt einen Fehler in einer Eingabedatei an, zum Beispiel eine Schriftartdatei.) for QFontDef(Family=\"\", pointsize=12, pixelsize=16, styleHint=5, weight=50, stretch=100, hintingPreference=0) LOGFONT(\"MS Sans Serif\", lfWidth=0, lfHeight=-16) dpi=96\n",
      "c:\\users\\benig\\documents\\python_dev\\arcos-gui\\arcos-gui\\src\\arcos_gui\\_arcos_widgets.py:886: FutureWarning: Using a non-tuple sequence for multidimensional indexing is deprecated; use `arr[tuple(seq)]` instead of `arr[seq]`. In the future this will be interpreted as an array index, `arr[np.array(seq)]`, which will result either in an error or a different result.\n",
      "  clid_np_sorted = clid_np[[clids_sorted_i]]\n",
      "C:\\Users\\benig\\miniconda3\\envs\\arcos\\lib\\site-packages\\numpy\\core\\numeric.py:2449: FutureWarning: elementwise comparison failed; returning scalar instead, but in the future will perform elementwise comparison\n",
      "  return bool(asarray(a1 == a2).all())\n",
      "C:\\Users\\benig\\miniconda3\\envs\\arcos\\lib\\site-packages\\numpy\\core\\numeric.py:2449: FutureWarning: elementwise comparison failed; returning scalar instead, but in the future will perform elementwise comparison\n",
      "  return bool(asarray(a1 == a2).all())\n",
      "C:\\Users\\benig\\miniconda3\\envs\\arcos\\lib\\site-packages\\numpy\\core\\numeric.py:2449: FutureWarning: elementwise comparison failed; returning scalar instead, but in the future will perform elementwise comparison\n",
      "  return bool(asarray(a1 == a2).all())\n",
      "c:\\users\\benig\\documents\\python_dev\\arcos-gui\\arcos-gui\\src\\arcos_gui\\_arcos_widgets.py:886: FutureWarning: Using a non-tuple sequence for multidimensional indexing is deprecated; use `arr[tuple(seq)]` instead of `arr[seq]`. In the future this will be interpreted as an array index, `arr[np.array(seq)]`, which will result either in an error or a different result.\n",
      "  clid_np_sorted = clid_np[[clids_sorted_i]]\n",
      "C:\\Users\\benig\\miniconda3\\envs\\arcos\\lib\\site-packages\\numpy\\core\\numeric.py:2449: FutureWarning: elementwise comparison failed; returning scalar instead, but in the future will perform elementwise comparison\n",
      "  return bool(asarray(a1 == a2).all())\n",
      "C:\\Users\\benig\\miniconda3\\envs\\arcos\\lib\\site-packages\\numpy\\core\\numeric.py:2449: FutureWarning: elementwise comparison failed; returning scalar instead, but in the future will perform elementwise comparison\n",
      "  return bool(asarray(a1 == a2).all())\n",
      "C:\\Users\\benig\\miniconda3\\envs\\arcos\\lib\\site-packages\\numpy\\core\\numeric.py:2449: FutureWarning: elementwise comparison failed; returning scalar instead, but in the future will perform elementwise comparison\n",
      "  return bool(asarray(a1 == a2).all())\n",
      "c:\\users\\benig\\documents\\python_dev\\arcos-gui\\arcos-gui\\src\\arcos_gui\\_arcos_widgets.py:886: FutureWarning: Using a non-tuple sequence for multidimensional indexing is deprecated; use `arr[tuple(seq)]` instead of `arr[seq]`. In the future this will be interpreted as an array index, `arr[np.array(seq)]`, which will result either in an error or a different result.\n",
      "  clid_np_sorted = clid_np[[clids_sorted_i]]\n",
      "C:\\Users\\benig\\miniconda3\\envs\\arcos\\lib\\site-packages\\numpy\\core\\numeric.py:2449: FutureWarning: elementwise comparison failed; returning scalar instead, but in the future will perform elementwise comparison\n",
      "  return bool(asarray(a1 == a2).all())\n",
      "C:\\Users\\benig\\miniconda3\\envs\\arcos\\lib\\site-packages\\numpy\\core\\numeric.py:2449: FutureWarning: elementwise comparison failed; returning scalar instead, but in the future will perform elementwise comparison\n",
      "  return bool(asarray(a1 == a2).all())\n",
      "C:\\Users\\benig\\miniconda3\\envs\\arcos\\lib\\site-packages\\numpy\\core\\numeric.py:2449: FutureWarning: elementwise comparison failed; returning scalar instead, but in the future will perform elementwise comparison\n",
      "  return bool(asarray(a1 == a2).all())\n",
      "c:\\users\\benig\\documents\\python_dev\\arcos-gui\\arcos-gui\\src\\arcos_gui\\_arcos_widgets.py:886: FutureWarning: Using a non-tuple sequence for multidimensional indexing is deprecated; use `arr[tuple(seq)]` instead of `arr[seq]`. In the future this will be interpreted as an array index, `arr[np.array(seq)]`, which will result either in an error or a different result.\n",
      "  clid_np_sorted = clid_np[[clids_sorted_i]]\n",
      "C:\\Users\\benig\\miniconda3\\envs\\arcos\\lib\\site-packages\\numpy\\core\\numeric.py:2449: FutureWarning: elementwise comparison failed; returning scalar instead, but in the future will perform elementwise comparison\n",
      "  return bool(asarray(a1 == a2).all())\n",
      "C:\\Users\\benig\\miniconda3\\envs\\arcos\\lib\\site-packages\\numpy\\core\\numeric.py:2449: FutureWarning: elementwise comparison failed; returning scalar instead, but in the future will perform elementwise comparison\n",
      "  return bool(asarray(a1 == a2).all())\n",
      "C:\\Users\\benig\\miniconda3\\envs\\arcos\\lib\\site-packages\\numpy\\core\\numeric.py:2449: FutureWarning: elementwise comparison failed; returning scalar instead, but in the future will perform elementwise comparison\n",
      "  return bool(asarray(a1 == a2).all())\n",
      "c:\\users\\benig\\documents\\python_dev\\arcos-gui\\arcos-gui\\src\\arcos_gui\\_arcos_widgets.py:886: FutureWarning: Using a non-tuple sequence for multidimensional indexing is deprecated; use `arr[tuple(seq)]` instead of `arr[seq]`. In the future this will be interpreted as an array index, `arr[np.array(seq)]`, which will result either in an error or a different result.\n",
      "  clid_np_sorted = clid_np[[clids_sorted_i]]\n",
      "c:\\users\\benig\\documents\\python_dev\\arcos-gui\\arcos-gui\\src\\arcos_gui\\_arcos_widgets.py:899: SettingWithCopyWarning: \n",
      "A value is trying to be set on a copy of a slice from a DataFrame.\n",
      "Try using .loc[row_indexer,col_indexer] = value instead\n",
      "\n",
      "See the caveats in the documentation: https://pandas.pydata.org/pandas-docs/stable/user_guide/indexing.html#returning-a-view-versus-a-copy\n",
      "  self.arcos_filtered[collid_name] = seq_colids_from_one\n",
      "C:\\Users\\benig\\miniconda3\\envs\\arcos\\lib\\site-packages\\numpy\\core\\numeric.py:2449: FutureWarning: elementwise comparison failed; returning scalar instead, but in the future will perform elementwise comparison\n",
      "  return bool(asarray(a1 == a2).all())\n",
      "C:\\Users\\benig\\miniconda3\\envs\\arcos\\lib\\site-packages\\numpy\\core\\numeric.py:2449: FutureWarning: elementwise comparison failed; returning scalar instead, but in the future will perform elementwise comparison\n",
      "  return bool(asarray(a1 == a2).all())\n",
      "C:\\Users\\benig\\miniconda3\\envs\\arcos\\lib\\site-packages\\numpy\\core\\numeric.py:2449: FutureWarning: elementwise comparison failed; returning scalar instead, but in the future will perform elementwise comparison\n",
      "  return bool(asarray(a1 == a2).all())\n",
      "c:\\users\\benig\\documents\\python_dev\\arcos-gui\\arcos-gui\\src\\arcos_gui\\_arcos_widgets.py:886: FutureWarning: Using a non-tuple sequence for multidimensional indexing is deprecated; use `arr[tuple(seq)]` instead of `arr[seq]`. In the future this will be interpreted as an array index, `arr[np.array(seq)]`, which will result either in an error or a different result.\n",
      "  clid_np_sorted = clid_np[[clids_sorted_i]]\n",
      "C:\\Users\\benig\\miniconda3\\envs\\arcos\\lib\\site-packages\\numpy\\core\\numeric.py:2449: FutureWarning: elementwise comparison failed; returning scalar instead, but in the future will perform elementwise comparison\n",
      "  return bool(asarray(a1 == a2).all())\n",
      "C:\\Users\\benig\\miniconda3\\envs\\arcos\\lib\\site-packages\\numpy\\core\\numeric.py:2449: FutureWarning: elementwise comparison failed; returning scalar instead, but in the future will perform elementwise comparison\n",
      "  return bool(asarray(a1 == a2).all())\n",
      "C:\\Users\\benig\\miniconda3\\envs\\arcos\\lib\\site-packages\\numpy\\core\\numeric.py:2449: FutureWarning: elementwise comparison failed; returning scalar instead, but in the future will perform elementwise comparison\n",
      "  return bool(asarray(a1 == a2).all())\n",
      "c:\\users\\benig\\documents\\python_dev\\arcos-gui\\arcos-gui\\src\\arcos_gui\\_arcos_widgets.py:886: FutureWarning: Using a non-tuple sequence for multidimensional indexing is deprecated; use `arr[tuple(seq)]` instead of `arr[seq]`. In the future this will be interpreted as an array index, `arr[np.array(seq)]`, which will result either in an error or a different result.\n",
      "  clid_np_sorted = clid_np[[clids_sorted_i]]\n",
      "C:\\Users\\benig\\miniconda3\\envs\\arcos\\lib\\site-packages\\numpy\\core\\numeric.py:2449: FutureWarning: elementwise comparison failed; returning scalar instead, but in the future will perform elementwise comparison\n",
      "  return bool(asarray(a1 == a2).all())\n",
      "C:\\Users\\benig\\miniconda3\\envs\\arcos\\lib\\site-packages\\numpy\\core\\numeric.py:2449: FutureWarning: elementwise comparison failed; returning scalar instead, but in the future will perform elementwise comparison\n",
      "  return bool(asarray(a1 == a2).all())\n",
      "C:\\Users\\benig\\miniconda3\\envs\\arcos\\lib\\site-packages\\numpy\\core\\numeric.py:2449: FutureWarning: elementwise comparison failed; returning scalar instead, but in the future will perform elementwise comparison\n",
      "  return bool(asarray(a1 == a2).all())\n",
      "c:\\users\\benig\\documents\\python_dev\\arcos-gui\\arcos-gui\\src\\arcos_gui\\_arcos_widgets.py:886: FutureWarning: Using a non-tuple sequence for multidimensional indexing is deprecated; use `arr[tuple(seq)]` instead of `arr[seq]`. In the future this will be interpreted as an array index, `arr[np.array(seq)]`, which will result either in an error or a different result.\n",
      "  clid_np_sorted = clid_np[[clids_sorted_i]]\n",
      "C:\\Users\\benig\\miniconda3\\envs\\arcos\\lib\\site-packages\\numpy\\core\\numeric.py:2449: FutureWarning: elementwise comparison failed; returning scalar instead, but in the future will perform elementwise comparison\n",
      "  return bool(asarray(a1 == a2).all())\n",
      "C:\\Users\\benig\\miniconda3\\envs\\arcos\\lib\\site-packages\\numpy\\core\\numeric.py:2449: FutureWarning: elementwise comparison failed; returning scalar instead, but in the future will perform elementwise comparison\n",
      "  return bool(asarray(a1 == a2).all())\n",
      "C:\\Users\\benig\\miniconda3\\envs\\arcos\\lib\\site-packages\\numpy\\core\\numeric.py:2449: FutureWarning: elementwise comparison failed; returning scalar instead, but in the future will perform elementwise comparison\n",
      "  return bool(asarray(a1 == a2).all())\n",
      "C:\\Users\\benig\\miniconda3\\envs\\arcos\\lib\\site-packages\\numpy\\core\\numeric.py:2449: FutureWarning: elementwise comparison failed; returning scalar instead, but in the future will perform elementwise comparison\n",
      "  return bool(asarray(a1 == a2).all())\n",
      "C:\\Users\\benig\\miniconda3\\envs\\arcos\\lib\\site-packages\\numpy\\core\\numeric.py:2449: FutureWarning: elementwise comparison failed; returning scalar instead, but in the future will perform elementwise comparison\n",
      "  return bool(asarray(a1 == a2).all())\n",
      "C:\\Users\\benig\\miniconda3\\envs\\arcos\\lib\\site-packages\\numpy\\core\\numeric.py:2449: FutureWarning: elementwise comparison failed; returning scalar instead, but in the future will perform elementwise comparison\n",
      "  return bool(asarray(a1 == a2).all())\n",
      "C:\\Users\\benig\\miniconda3\\envs\\arcos\\lib\\site-packages\\numpy\\core\\numeric.py:2449: FutureWarning: elementwise comparison failed; returning scalar instead, but in the future will perform elementwise comparison\n",
      "  return bool(asarray(a1 == a2).all())\n",
      "C:\\Users\\benig\\miniconda3\\envs\\arcos\\lib\\site-packages\\numpy\\core\\numeric.py:2449: FutureWarning: elementwise comparison failed; returning scalar instead, but in the future will perform elementwise comparison\n",
      "  return bool(asarray(a1 == a2).all())\n",
      "C:\\Users\\benig\\miniconda3\\envs\\arcos\\lib\\site-packages\\numpy\\core\\numeric.py:2449: FutureWarning: elementwise comparison failed; returning scalar instead, but in the future will perform elementwise comparison\n",
      "  return bool(asarray(a1 == a2).all())\n",
      "c:\\users\\benig\\documents\\python_dev\\arcos-gui\\arcos-gui\\src\\arcos_gui\\_arcos_widgets.py:886: FutureWarning: Using a non-tuple sequence for multidimensional indexing is deprecated; use `arr[tuple(seq)]` instead of `arr[seq]`. In the future this will be interpreted as an array index, `arr[np.array(seq)]`, which will result either in an error or a different result.\n",
      "  clid_np_sorted = clid_np[[clids_sorted_i]]\n",
      "C:\\Users\\benig\\miniconda3\\envs\\arcos\\lib\\site-packages\\numpy\\core\\numeric.py:2449: FutureWarning: elementwise comparison failed; returning scalar instead, but in the future will perform elementwise comparison\n",
      "  return bool(asarray(a1 == a2).all())\n",
      "C:\\Users\\benig\\miniconda3\\envs\\arcos\\lib\\site-packages\\numpy\\core\\numeric.py:2449: FutureWarning: elementwise comparison failed; returning scalar instead, but in the future will perform elementwise comparison\n",
      "  return bool(asarray(a1 == a2).all())\n",
      "C:\\Users\\benig\\miniconda3\\envs\\arcos\\lib\\site-packages\\numpy\\core\\numeric.py:2449: FutureWarning: elementwise comparison failed; returning scalar instead, but in the future will perform elementwise comparison\n",
      "  return bool(asarray(a1 == a2).all())\n",
      "C:\\Users\\benig\\miniconda3\\envs\\arcos\\lib\\site-packages\\numpy\\core\\numeric.py:2449: FutureWarning: elementwise comparison failed; returning scalar instead, but in the future will perform elementwise comparison\n",
      "  return bool(asarray(a1 == a2).all())\n",
      "C:\\Users\\benig\\miniconda3\\envs\\arcos\\lib\\site-packages\\numpy\\core\\numeric.py:2449: FutureWarning: elementwise comparison failed; returning scalar instead, but in the future will perform elementwise comparison\n",
      "  return bool(asarray(a1 == a2).all())\n",
      "C:\\Users\\benig\\miniconda3\\envs\\arcos\\lib\\site-packages\\numpy\\core\\numeric.py:2449: FutureWarning: elementwise comparison failed; returning scalar instead, but in the future will perform elementwise comparison\n",
      "  return bool(asarray(a1 == a2).all())\n",
      "c:\\users\\benig\\documents\\python_dev\\arcos-gui\\arcos-gui\\src\\arcos_gui\\_arcos_widgets.py:886: FutureWarning: Using a non-tuple sequence for multidimensional indexing is deprecated; use `arr[tuple(seq)]` instead of `arr[seq]`. In the future this will be interpreted as an array index, `arr[np.array(seq)]`, which will result either in an error or a different result.\n",
      "  clid_np_sorted = clid_np[[clids_sorted_i]]\n",
      "c:\\users\\benig\\documents\\python_dev\\arcos-gui\\arcos-gui\\src\\arcos_gui\\_arcos_widgets.py:899: SettingWithCopyWarning: \n",
      "A value is trying to be set on a copy of a slice from a DataFrame.\n",
      "Try using .loc[row_indexer,col_indexer] = value instead\n",
      "\n",
      "See the caveats in the documentation: https://pandas.pydata.org/pandas-docs/stable/user_guide/indexing.html#returning-a-view-versus-a-copy\n",
      "  self.arcos_filtered[collid_name] = seq_colids_from_one\n",
      "C:\\Users\\benig\\miniconda3\\envs\\arcos\\lib\\site-packages\\numpy\\core\\numeric.py:2449: FutureWarning: elementwise comparison failed; returning scalar instead, but in the future will perform elementwise comparison\n",
      "  return bool(asarray(a1 == a2).all())\n",
      "C:\\Users\\benig\\miniconda3\\envs\\arcos\\lib\\site-packages\\numpy\\core\\numeric.py:2449: FutureWarning: elementwise comparison failed; returning scalar instead, but in the future will perform elementwise comparison\n",
      "  return bool(asarray(a1 == a2).all())\n",
      "C:\\Users\\benig\\miniconda3\\envs\\arcos\\lib\\site-packages\\numpy\\core\\numeric.py:2449: FutureWarning: elementwise comparison failed; returning scalar instead, but in the future will perform elementwise comparison\n",
      "  return bool(asarray(a1 == a2).all())\n",
      "c:\\users\\benig\\documents\\python_dev\\arcos-gui\\arcos-gui\\src\\arcos_gui\\_arcos_widgets.py:886: FutureWarning: Using a non-tuple sequence for multidimensional indexing is deprecated; use `arr[tuple(seq)]` instead of `arr[seq]`. In the future this will be interpreted as an array index, `arr[np.array(seq)]`, which will result either in an error or a different result.\n",
      "  clid_np_sorted = clid_np[[clids_sorted_i]]\n",
      "c:\\users\\benig\\documents\\python_dev\\arcos-gui\\arcos-gui\\src\\arcos_gui\\_arcos_widgets.py:899: SettingWithCopyWarning: \n",
      "A value is trying to be set on a copy of a slice from a DataFrame.\n",
      "Try using .loc[row_indexer,col_indexer] = value instead\n",
      "\n",
      "See the caveats in the documentation: https://pandas.pydata.org/pandas-docs/stable/user_guide/indexing.html#returning-a-view-versus-a-copy\n",
      "  self.arcos_filtered[collid_name] = seq_colids_from_one\n",
      "C:\\Users\\benig\\miniconda3\\envs\\arcos\\lib\\site-packages\\numpy\\core\\numeric.py:2449: FutureWarning: elementwise comparison failed; returning scalar instead, but in the future will perform elementwise comparison\n",
      "  return bool(asarray(a1 == a2).all())\n",
      "C:\\Users\\benig\\miniconda3\\envs\\arcos\\lib\\site-packages\\numpy\\core\\numeric.py:2449: FutureWarning: elementwise comparison failed; returning scalar instead, but in the future will perform elementwise comparison\n",
      "  return bool(asarray(a1 == a2).all())\n",
      "C:\\Users\\benig\\miniconda3\\envs\\arcos\\lib\\site-packages\\numpy\\core\\numeric.py:2449: FutureWarning: elementwise comparison failed; returning scalar instead, but in the future will perform elementwise comparison\n",
      "  return bool(asarray(a1 == a2).all())\n",
      "c:\\users\\benig\\documents\\python_dev\\arcos-gui\\arcos-gui\\src\\arcos_gui\\_arcos_widgets.py:886: FutureWarning: Using a non-tuple sequence for multidimensional indexing is deprecated; use `arr[tuple(seq)]` instead of `arr[seq]`. In the future this will be interpreted as an array index, `arr[np.array(seq)]`, which will result either in an error or a different result.\n",
      "  clid_np_sorted = clid_np[[clids_sorted_i]]\n",
      "c:\\users\\benig\\documents\\python_dev\\arcos-gui\\arcos-gui\\src\\arcos_gui\\_arcos_widgets.py:899: SettingWithCopyWarning: \n",
      "A value is trying to be set on a copy of a slice from a DataFrame.\n",
      "Try using .loc[row_indexer,col_indexer] = value instead\n",
      "\n",
      "See the caveats in the documentation: https://pandas.pydata.org/pandas-docs/stable/user_guide/indexing.html#returning-a-view-versus-a-copy\n",
      "  self.arcos_filtered[collid_name] = seq_colids_from_one\n",
      "C:\\Users\\benig\\miniconda3\\envs\\arcos\\lib\\site-packages\\numpy\\core\\numeric.py:2449: FutureWarning: elementwise comparison failed; returning scalar instead, but in the future will perform elementwise comparison\n",
      "  return bool(asarray(a1 == a2).all())\n",
      "C:\\Users\\benig\\miniconda3\\envs\\arcos\\lib\\site-packages\\numpy\\core\\numeric.py:2449: FutureWarning: elementwise comparison failed; returning scalar instead, but in the future will perform elementwise comparison\n",
      "  return bool(asarray(a1 == a2).all())\n",
      "C:\\Users\\benig\\miniconda3\\envs\\arcos\\lib\\site-packages\\numpy\\core\\numeric.py:2449: FutureWarning: elementwise comparison failed; returning scalar instead, but in the future will perform elementwise comparison\n",
      "  return bool(asarray(a1 == a2).all())\n",
      "c:\\users\\benig\\documents\\python_dev\\arcos-gui\\arcos-gui\\src\\arcos_gui\\_arcos_widgets.py:886: FutureWarning: Using a non-tuple sequence for multidimensional indexing is deprecated; use `arr[tuple(seq)]` instead of `arr[seq]`. In the future this will be interpreted as an array index, `arr[np.array(seq)]`, which will result either in an error or a different result.\n",
      "  clid_np_sorted = clid_np[[clids_sorted_i]]\n",
      "c:\\users\\benig\\documents\\python_dev\\arcos-gui\\arcos-gui\\src\\arcos_gui\\_arcos_widgets.py:899: SettingWithCopyWarning: \n",
      "A value is trying to be set on a copy of a slice from a DataFrame.\n",
      "Try using .loc[row_indexer,col_indexer] = value instead\n",
      "\n",
      "See the caveats in the documentation: https://pandas.pydata.org/pandas-docs/stable/user_guide/indexing.html#returning-a-view-versus-a-copy\n",
      "  self.arcos_filtered[collid_name] = seq_colids_from_one\n",
      "C:\\Users\\benig\\miniconda3\\envs\\arcos\\lib\\site-packages\\numpy\\core\\numeric.py:2449: FutureWarning: elementwise comparison failed; returning scalar instead, but in the future will perform elementwise comparison\n",
      "  return bool(asarray(a1 == a2).all())\n",
      "C:\\Users\\benig\\miniconda3\\envs\\arcos\\lib\\site-packages\\numpy\\core\\numeric.py:2449: FutureWarning: elementwise comparison failed; returning scalar instead, but in the future will perform elementwise comparison\n",
      "  return bool(asarray(a1 == a2).all())\n",
      "C:\\Users\\benig\\miniconda3\\envs\\arcos\\lib\\site-packages\\numpy\\core\\numeric.py:2449: FutureWarning: elementwise comparison failed; returning scalar instead, but in the future will perform elementwise comparison\n",
      "  return bool(asarray(a1 == a2).all())\n",
      "c:\\users\\benig\\documents\\python_dev\\arcos-gui\\arcos-gui\\src\\arcos_gui\\_arcos_widgets.py:886: FutureWarning: Using a non-tuple sequence for multidimensional indexing is deprecated; use `arr[tuple(seq)]` instead of `arr[seq]`. In the future this will be interpreted as an array index, `arr[np.array(seq)]`, which will result either in an error or a different result.\n",
      "  clid_np_sorted = clid_np[[clids_sorted_i]]\n",
      "c:\\users\\benig\\documents\\python_dev\\arcos-gui\\arcos-gui\\src\\arcos_gui\\_arcos_widgets.py:899: SettingWithCopyWarning: \n",
      "A value is trying to be set on a copy of a slice from a DataFrame.\n",
      "Try using .loc[row_indexer,col_indexer] = value instead\n",
      "\n",
      "See the caveats in the documentation: https://pandas.pydata.org/pandas-docs/stable/user_guide/indexing.html#returning-a-view-versus-a-copy\n",
      "  self.arcos_filtered[collid_name] = seq_colids_from_one\n",
      "C:\\Users\\benig\\miniconda3\\envs\\arcos\\lib\\site-packages\\numpy\\core\\numeric.py:2449: FutureWarning: elementwise comparison failed; returning scalar instead, but in the future will perform elementwise comparison\n",
      "  return bool(asarray(a1 == a2).all())\n",
      "C:\\Users\\benig\\miniconda3\\envs\\arcos\\lib\\site-packages\\numpy\\core\\numeric.py:2449: FutureWarning: elementwise comparison failed; returning scalar instead, but in the future will perform elementwise comparison\n",
      "  return bool(asarray(a1 == a2).all())\n",
      "C:\\Users\\benig\\miniconda3\\envs\\arcos\\lib\\site-packages\\numpy\\core\\numeric.py:2449: FutureWarning: elementwise comparison failed; returning scalar instead, but in the future will perform elementwise comparison\n",
      "  return bool(asarray(a1 == a2).all())\n",
      "c:\\users\\benig\\documents\\python_dev\\arcos-gui\\arcos-gui\\src\\arcos_gui\\_arcos_widgets.py:886: FutureWarning: Using a non-tuple sequence for multidimensional indexing is deprecated; use `arr[tuple(seq)]` instead of `arr[seq]`. In the future this will be interpreted as an array index, `arr[np.array(seq)]`, which will result either in an error or a different result.\n",
      "  clid_np_sorted = clid_np[[clids_sorted_i]]\n",
      "c:\\users\\benig\\documents\\python_dev\\arcos-gui\\arcos-gui\\src\\arcos_gui\\_arcos_widgets.py:899: SettingWithCopyWarning: \n",
      "A value is trying to be set on a copy of a slice from a DataFrame.\n",
      "Try using .loc[row_indexer,col_indexer] = value instead\n",
      "\n",
      "See the caveats in the documentation: https://pandas.pydata.org/pandas-docs/stable/user_guide/indexing.html#returning-a-view-versus-a-copy\n",
      "  self.arcos_filtered[collid_name] = seq_colids_from_one\n",
      "C:\\Users\\benig\\miniconda3\\envs\\arcos\\lib\\site-packages\\numpy\\core\\numeric.py:2449: FutureWarning: elementwise comparison failed; returning scalar instead, but in the future will perform elementwise comparison\n",
      "  return bool(asarray(a1 == a2).all())\n",
      "C:\\Users\\benig\\miniconda3\\envs\\arcos\\lib\\site-packages\\numpy\\core\\numeric.py:2449: FutureWarning: elementwise comparison failed; returning scalar instead, but in the future will perform elementwise comparison\n",
      "  return bool(asarray(a1 == a2).all())\n",
      "C:\\Users\\benig\\miniconda3\\envs\\arcos\\lib\\site-packages\\numpy\\core\\numeric.py:2449: FutureWarning: elementwise comparison failed; returning scalar instead, but in the future will perform elementwise comparison\n",
      "  return bool(asarray(a1 == a2).all())\n",
      "c:\\users\\benig\\documents\\python_dev\\arcos-gui\\arcos-gui\\src\\arcos_gui\\_arcos_widgets.py:886: FutureWarning: Using a non-tuple sequence for multidimensional indexing is deprecated; use `arr[tuple(seq)]` instead of `arr[seq]`. In the future this will be interpreted as an array index, `arr[np.array(seq)]`, which will result either in an error or a different result.\n",
      "  clid_np_sorted = clid_np[[clids_sorted_i]]\n",
      "C:\\Users\\benig\\miniconda3\\envs\\arcos\\lib\\site-packages\\numpy\\core\\numeric.py:2449: FutureWarning: elementwise comparison failed; returning scalar instead, but in the future will perform elementwise comparison\n",
      "  return bool(asarray(a1 == a2).all())\n",
      "C:\\Users\\benig\\miniconda3\\envs\\arcos\\lib\\site-packages\\numpy\\core\\numeric.py:2449: FutureWarning: elementwise comparison failed; returning scalar instead, but in the future will perform elementwise comparison\n",
      "  return bool(asarray(a1 == a2).all())\n",
      "C:\\Users\\benig\\miniconda3\\envs\\arcos\\lib\\site-packages\\numpy\\core\\numeric.py:2449: FutureWarning: elementwise comparison failed; returning scalar instead, but in the future will perform elementwise comparison\n",
      "  return bool(asarray(a1 == a2).all())\n",
      "C:\\Users\\benig\\miniconda3\\envs\\arcos\\lib\\site-packages\\numpy\\core\\numeric.py:2449: FutureWarning: elementwise comparison failed; returning scalar instead, but in the future will perform elementwise comparison\n",
      "  return bool(asarray(a1 == a2).all())\n",
      "c:\\users\\benig\\documents\\python_dev\\arcos-gui\\arcos-gui\\src\\arcos_gui\\_arcos_widgets.py:886: FutureWarning: Using a non-tuple sequence for multidimensional indexing is deprecated; use `arr[tuple(seq)]` instead of `arr[seq]`. In the future this will be interpreted as an array index, `arr[np.array(seq)]`, which will result either in an error or a different result.\n",
      "  clid_np_sorted = clid_np[[clids_sorted_i]]\n",
      "c:\\users\\benig\\documents\\python_dev\\arcos-gui\\arcos-gui\\src\\arcos_gui\\_arcos_widgets.py:899: SettingWithCopyWarning: \n",
      "A value is trying to be set on a copy of a slice from a DataFrame.\n",
      "Try using .loc[row_indexer,col_indexer] = value instead\n",
      "\n",
      "See the caveats in the documentation: https://pandas.pydata.org/pandas-docs/stable/user_guide/indexing.html#returning-a-view-versus-a-copy\n",
      "  self.arcos_filtered[collid_name] = seq_colids_from_one\n",
      "C:\\Users\\benig\\miniconda3\\envs\\arcos\\lib\\site-packages\\numpy\\core\\numeric.py:2449: FutureWarning: elementwise comparison failed; returning scalar instead, but in the future will perform elementwise comparison\n",
      "  return bool(asarray(a1 == a2).all())\n",
      "C:\\Users\\benig\\miniconda3\\envs\\arcos\\lib\\site-packages\\numpy\\core\\numeric.py:2449: FutureWarning: elementwise comparison failed; returning scalar instead, but in the future will perform elementwise comparison\n",
      "  return bool(asarray(a1 == a2).all())\n",
      "C:\\Users\\benig\\miniconda3\\envs\\arcos\\lib\\site-packages\\numpy\\core\\numeric.py:2449: FutureWarning: elementwise comparison failed; returning scalar instead, but in the future will perform elementwise comparison\n",
      "  return bool(asarray(a1 == a2).all())\n"
     ]
    }
   ],
   "source": [
    "viewer.add_image(nuclei)"
   ]
  },
  {
   "cell_type": "code",
   "execution_count": null,
   "metadata": {},
   "outputs": [],
   "source": [
    "import pandas as pd\n",
    "\n",
    "data = pd.read_csv(\"C:/Users/benig/Desktop/tracks_191021_wt_curated_origSmoothedXYZ_interpolated_binarised.csv.gz\")"
   ]
  },
  {
   "cell_type": "code",
   "execution_count": null,
   "metadata": {},
   "outputs": [],
   "source": [
    "viewer = napari.Viewer()"
   ]
  },
  {
   "cell_type": "code",
   "execution_count": null,
   "metadata": {},
   "outputs": [],
   "source": [
    "import numpy as np"
   ]
  },
  {
   "cell_type": "code",
   "execution_count": null,
   "metadata": {},
   "outputs": [],
   "source": [
    "img_transposed = np.transpose(nuclei_zoomed, [0,2,3,1])"
   ]
  },
  {
   "cell_type": "code",
   "execution_count": null,
   "metadata": {},
   "outputs": [],
   "source": [
    "io.imsave(\"nuc_transposed.tiff\", img_transposed)"
   ]
  },
  {
   "cell_type": "code",
   "execution_count": null,
   "metadata": {},
   "outputs": [],
   "source": []
  }
 ],
 "metadata": {
  "interpreter": {
   "hash": "27c1e4368a1f6fab2bf7442d9001d017b3eeb32fa54c0be0a88082946e5ff4f6"
  },
  "kernelspec": {
   "display_name": "Python 3.10.4 ('arcos')",
   "language": "python",
   "name": "python3"
  },
  "language_info": {
   "codemirror_mode": {
    "name": "ipython",
    "version": 3
   },
   "file_extension": ".py",
   "mimetype": "text/x-python",
   "name": "python",
   "nbconvert_exporter": "python",
   "pygments_lexer": "ipython3",
   "version": "3.10.4"
  },
  "orig_nbformat": 4
 },
 "nbformat": 4,
 "nbformat_minor": 2
}
